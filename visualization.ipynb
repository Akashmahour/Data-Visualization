{
 "cells": [
  {
   "cell_type": "code",
   "execution_count": 8,
   "id": "5dd05d23",
   "metadata": {},
   "outputs": [],
   "source": [
    "import json\n",
    "f = open('./1.json')\n",
    "json_file = json.load(f)"
   ]
  },
  {
   "cell_type": "code",
   "execution_count": 9,
   "id": "622da89d",
   "metadata": {
    "scrolled": false
   },
   "outputs": [
    {
     "data": {
      "text/plain": [
       "{'id': 'Aq6nkgCbWc',\n",
       " 'type': 'polygonlabels',\n",
       " 'value': {'points': [[3.4166737705501578, 53.19465654365013],\n",
       "   [5.256421185461781, 52.75703235958848],\n",
       "   [7.818926513374399, 51.706734317840485],\n",
       "   [9.724379193104296, 50.656436276092485],\n",
       "   [11.038484489469742, 52.75703235958848],\n",
       "   [12.352589785835185, 54.1574297485858],\n",
       "   [15.177916173020892, 58.4461467523901],\n",
       "   [13.338168758109267, 59.058820610076424],\n",
       "   [11.3670108135611, 60.721792509510735],\n",
       "   [10.118610782013926, 62.90991342981906],\n",
       "   [9.33014760419466, 65.18555918693971],\n",
       "   [9.33014760419466, 68.16140363855902],\n",
       "   [9.461558133831202, 70.96219841655366],\n",
       "   [5.519242244734871, 69.91190037480568],\n",
       "   [4.336547478005969, 68.86160233305768],\n",
       "   [3.6794948298232466, 66.2358572286877],\n",
       "   [3.1538527112770685, 63.52258728750539],\n",
       "   [2.431094798276074, 61.07189185676008],\n",
       "   [1.8397474149116233, 58.35862191557776],\n",
       "   [2.233979003821257, 55.90792648483245]],\n",
       "  'polygonlabels': ['Bumper']},\n",
       " 'to_name': 'image',\n",
       " 'from_name': 'label',\n",
       " 'image_rotation': 0,\n",
       " 'original_width': 710,\n",
       " 'original_height': 533}"
      ]
     },
     "execution_count": 9,
     "metadata": {},
     "output_type": "execute_result"
    }
   ],
   "source": [
    "json_file[1]"
   ]
  },
  {
   "cell_type": "code",
   "execution_count": 10,
   "id": "e88c2855",
   "metadata": {},
   "outputs": [],
   "source": [
    "def getboundingbox(points) :\n",
    "    x_array  = [x[0] for x in points]\n",
    "    y_array = [x[1] for x in points]\n",
    "    start_point = (int(min(x_array)), int(min(y_array)))\n",
    "    end_point = (int(max(x_array)),int(max(y_array)))\n",
    "    return [start_point,end_point]"
   ]
  },
  {
   "cell_type": "code",
   "execution_count": 11,
   "id": "f27d5d45",
   "metadata": {},
   "outputs": [],
   "source": [
    "def unnormalize_coordinates(points,width,height) :\n",
    "    new_points = []\n",
    "    for point in points :\n",
    "        x_new = (point[0] * width)/100\n",
    "        y_new = (point[1] * height)/100\n",
    "        temp_point = [x_new,y_new]\n",
    "        new_points.append(temp_point)\n",
    "    return new_points\n",
    "        \n",
    "    \n",
    "    "
   ]
  },
  {
   "cell_type": "code",
   "execution_count": 12,
   "id": "92283385",
   "metadata": {},
   "outputs": [],
   "source": [
    "def plot_rectangle(points,image) :\n",
    "    \n",
    "    start_point = points[0]\n",
    "\n",
    "    # Ending coordinate, here (220, 220)\n",
    "    # represents the bottom right corner of rectangle\n",
    "    end_point = points[1]\n",
    "\n",
    "    # Blue color in BGR\n",
    "    color = (0,255,0)\n",
    "\n",
    "    # Line thickness of 2 px\n",
    "    thickness = 4\n",
    "\n",
    "    # Using cv2.rectangle() method\n",
    "    # Draw a rectangle with blue line borders of thickness of 2 px\n",
    "    image = cv2.rectangle(image, start_point, end_point, color, thickness)\n",
    "    \n",
    "    \n",
    "    return image"
   ]
  },
  {
   "cell_type": "code",
   "execution_count": 13,
   "id": "46a93bf7",
   "metadata": {},
   "outputs": [],
   "source": [
    "import numpy as np\n",
    "def plot_on_image(image,normalized_points) :\n",
    "    pts = np.array(normalized_points)\n",
    "    pts = pts.reshape((-1, 1, 2))\n",
    "    color = (0, 255, 0)\n",
    "    isClosed = True\n",
    "    # Line thickness of 8 px\n",
    "    thickness = 4\n",
    "    shapes = np.zeros_like(image, np.uint8)\n",
    "    cv2.fillPoly(shapes, np.int32([pts]), color=(0, 255, 0))\n",
    "    out = image.copy()\n",
    "    alpha = 0.5\n",
    "    mask = shapes.astype(bool)\n",
    "    out[mask] = cv2.addWeighted(image, alpha, shapes, 1 - alpha, 0)[mask]\n",
    "    return out\n",
    "    \n",
    "    "
   ]
  },
  {
   "cell_type": "code",
   "execution_count": 14,
   "id": "6fd02f5a",
   "metadata": {},
   "outputs": [],
   "source": [
    "image_folder_name = './images'\n",
    "json_folder_name = './data'\n",
    "import os\n",
    "import cv2\n",
    "files = os.listdir(image_folder_name)\n",
    "for file in files :\n",
    "    image = cv2.imread(os.path.join(image_folder_name,file))\n",
    "    name = file.split('.')[0]\n",
    "    f = open(os.path.join(json_folder_name,name+'.json'))\n",
    "    json_file = json.load(f)\n",
    "    for item in json_file :\n",
    "        if item['type'] == 'polygonlabels' :\n",
    "            points = item['value']['points']\n",
    "            width = item['original_width']\n",
    "            height = item['original_height']\n",
    "            unnormalized_points = unnormalize_coordinates(points,width,height)\n",
    "            image = plot_on_image(image,unnormalized_points)\n",
    "            bb_cords = getboundingbox(unnormalized_points)\n",
    "            image = plot_rectangle(bb_cords,image)\n",
    "            \n",
    "\n",
    "    while(1):\n",
    "        cv2.imshow('img',image)\n",
    "        k = cv2.waitKey(33)\n",
    "        if k==27:    # Esc key to stop\n",
    "            break\n",
    "            \n",
    "    "
   ]
  },
  {
   "cell_type": "code",
   "execution_count": null,
   "id": "1537fbe0",
   "metadata": {},
   "outputs": [],
   "source": [
    "\n",
    "\n",
    "        \n",
    "        \n",
    "        "
   ]
  },
  {
   "cell_type": "code",
   "execution_count": null,
   "id": "7f2c9edf",
   "metadata": {},
   "outputs": [],
   "source": []
  },
  {
   "cell_type": "code",
   "execution_count": null,
   "id": "2c5db543",
   "metadata": {},
   "outputs": [],
   "source": []
  }
 ],
 "metadata": {
  "kernelspec": {
   "display_name": "Python 3 (ipykernel)",
   "language": "python",
   "name": "python3"
  },
  "language_info": {
   "codemirror_mode": {
    "name": "ipython",
    "version": 3
   },
   "file_extension": ".py",
   "mimetype": "text/x-python",
   "name": "python",
   "nbconvert_exporter": "python",
   "pygments_lexer": "ipython3",
   "version": "3.9.7"
  }
 },
 "nbformat": 4,
 "nbformat_minor": 5
}
